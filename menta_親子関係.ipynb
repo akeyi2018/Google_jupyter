{
  "cells": [
    {
      "cell_type": "markdown",
      "metadata": {
        "id": "view-in-github",
        "colab_type": "text"
      },
      "source": [
        "<a href=\"https://colab.research.google.com/github/akeyi2018/Google_jupyter/blob/main/menta_%E8%A6%AA%E5%AD%90%E9%96%A2%E4%BF%82.ipynb\" target=\"_parent\"><img src=\"https://colab.research.google.com/assets/colab-badge.svg\" alt=\"Open In Colab\"/></a>"
      ]
    },
    {
      "cell_type": "code",
      "execution_count": null,
      "metadata": {
        "id": "kDgQ_g5TMTo4",
        "outputId": "37774604-2304-41f1-f3eb-e71e1136f154"
      },
      "outputs": [
        {
          "name": "stdout",
          "output_type": "stream",
          "text": [
            "生まれた子供の血液型は['A', 'B', 'AB', 'O']\n"
          ]
        }
      ],
      "source": [
        "# 父\n",
        "class Father():\n",
        "\n",
        "    def __init__(self, blood_type) -> None:\n",
        "        self.blood_type = blood_type\n",
        "\n",
        "# 母\n",
        "class Mother():\n",
        "    def __init__(self, blood_type) -> None:\n",
        "        self.blood_type = blood_type\n",
        "\n",
        "\n",
        "# 子供クラス\n",
        "class Child():\n",
        "    def __init__(self, parent) -> None:\n",
        "        self.father = parent.father\n",
        "        self.mother = parent.mother\n",
        "\n",
        "    def rule(self):\n",
        "        # AとB\n",
        "        rule1 = ['A', 'B', 'AB', 'O']\n",
        "        # AとO\n",
        "        rule2 = ['A','O']\n",
        "        # BとO\n",
        "        rule3 = ['B', 'O']\n",
        "        # AとA\n",
        "        rule4 = ['A', 'O']\n",
        "        # BとB\n",
        "        rule5 = ['B', 'O']\n",
        "\n",
        "        rules = [rule1, rule2, rule3, rule4, rule5]\n",
        "        return rules\n",
        "\n",
        "    # 子供の血液型を取得する\n",
        "    def get_blood_type(self):\n",
        "\n",
        "        rule1_comp =  [['A', 'B'], ['B', 'A']]\n",
        "        rule2_comp =  [['A', 'O'], ['O', 'A']]\n",
        "        rule3_comp =  [['B', 'O'], ['O', 'B']]\n",
        "        rule4_comp =  [['A', 'A']]\n",
        "        rule5_comp =  [['B', 'B']]\n",
        "\n",
        "        comp_list = [rule1_comp, rule2_comp, rule3_comp, rule4_comp, rule5_comp]\n",
        "\n",
        "        parents = set([self.father.blood_type, self.mother.blood_type])\n",
        "\n",
        "        paturn = -1\n",
        "        for index, comp in enumerate(comp_list):\n",
        "            matching_lists = [sublist for sublist in comp if set(sublist) == parents]\n",
        "            if matching_lists:\n",
        "                paturn = index\n",
        "                break\n",
        "\n",
        "        print(f'生まれた子供の血液型は{self.rule()[paturn]}')\n",
        "\n",
        "\n",
        "# 父と母の血液型は、A/B/Oのいずれで、子供の血液型を求めたい\n",
        "\n",
        "class Main():\n",
        "\n",
        "    def __init__(self) -> None:\n",
        "        self.father = Father('B')\n",
        "        self.mother = Mother('A')\n",
        "\n",
        "    def born(self):\n",
        "        child = Child(self)\n",
        "        child.get_blood_type()\n",
        "\n",
        "\n",
        "ins = Main()\n",
        "ins.born()\n"
      ]
    },
    {
      "cell_type": "code",
      "execution_count": null,
      "metadata": {
        "id": "GIedELlGMTo8",
        "outputId": "89f27b18-e97d-4c53-b88d-ca3924f163de"
      },
      "outputs": [
        {
          "name": "stdout",
          "output_type": "stream",
          "text": [
            "('A', 'B')\n",
            "生まれた子供の血液型は['A', 'B', 'AB', 'O']\n"
          ]
        }
      ],
      "source": [
        "class Father:\n",
        "    def __init__(self, blood_type) -> None:\n",
        "        self.blood_type = blood_type\n",
        "\n",
        "class Mother:\n",
        "    def __init__(self, blood_type) -> None:\n",
        "        self.blood_type = blood_type\n",
        "\n",
        "class Child:\n",
        "\n",
        "\n",
        "    def __init__(self, father, mother) -> None:\n",
        "        self.father = father\n",
        "        self.mother = mother\n",
        "        # AB型は考慮しない\n",
        "        keys = [\n",
        "            ['A', 'B'],\n",
        "            ['A', 'O'],\n",
        "            ['B', 'O'],\n",
        "            ['A', 'A'],\n",
        "            ['B', 'B'],\n",
        "            ['O', 'O']\n",
        "        ]\n",
        "        values = [\n",
        "            ['A', 'B', 'AB', 'O'], # rule1\n",
        "            ['A', 'O'],            # rule2\n",
        "            ['B', 'O'],            # rule3\n",
        "            ['A', 'O'],            # rule4\n",
        "            ['B', 'O'],            # rule5\n",
        "            ['O'] # rule6\n",
        "        ]\n",
        "        # 生殖ルール\n",
        "        self.rule_of_blood_dict = {tuple(k): v for k, v in zip(keys, values)}\n",
        "\n",
        "    def get_blood_type(self):\n",
        "\n",
        "        if self.father.blood_type == self.mother.blood_type:\n",
        "            parents = (self.father.blood_type, self.mother.blood_type)\n",
        "        else: # 両親の血液型\n",
        "            parents = tuple(set(sorted([self.father.blood_type, self.mother.blood_type])))\n",
        "        # 生まれてくる子供の血液型\n",
        "        child_blood_type = self.rule_of_blood_dict[parents]\n",
        "\n",
        "        print(f'生まれた子供の血液型は{child_blood_type}')\n",
        "\n",
        "class Main:\n",
        "    def __init__(self) -> None:\n",
        "        self.father = Father('B')\n",
        "        self.mother = Mother('A')\n",
        "\n",
        "    def born(self):\n",
        "        child = Child(self.father, self.mother)\n",
        "        child.get_blood_type()\n",
        "\n",
        "ins = Main()\n",
        "ins.born()\n",
        "\n"
      ]
    },
    {
      "cell_type": "code",
      "execution_count": null,
      "metadata": {
        "id": "4Ur6FXMVMTo9",
        "outputId": "e94a3622-c98d-41ff-d410-cc7c80fc04cc"
      },
      "outputs": [
        {
          "name": "stdout",
          "output_type": "stream",
          "text": [
            "{('a1', 'a2'): ['A', 'B', 'AB', 'O'], ('b1', 'b2'): ['A', 'O'], ('c1', 'c2'): ['B', 'O']}\n",
            "['A', 'B', 'AB', 'O']\n"
          ]
        }
      ],
      "source": [
        "list_A = [['a1', 'a2'], ['b1', 'b2'], ['c1', 'c2']]\n",
        "list_B = [\n",
        "        ['A', 'B', 'AB', 'O'], # rule1\n",
        "        ['A', 'O'],            # rule2\n",
        "        ['B', 'O'],            # rule3\n",
        "        ['A', 'O'],            # rule4\n",
        "        ['B', 'O'],            # rule5\n",
        "        ['O'] # rule6\n",
        "    ]\n",
        "\n",
        "# 辞書を生成\n",
        "dict_result = {tuple(k): v for k, v in zip(list_A, list_B)}\n",
        "\n",
        "print(dict_result)\n",
        "key = tuple(['a1','a2'])\n",
        "print(dict_result[key])"
      ]
    }
  ],
  "metadata": {
    "kernelspec": {
      "display_name": "Python 3",
      "language": "python",
      "name": "python3"
    },
    "language_info": {
      "codemirror_mode": {
        "name": "ipython",
        "version": 3
      },
      "file_extension": ".py",
      "mimetype": "text/x-python",
      "name": "python",
      "nbconvert_exporter": "python",
      "pygments_lexer": "ipython3",
      "version": "3.12.2"
    },
    "colab": {
      "provenance": [],
      "include_colab_link": true
    }
  },
  "nbformat": 4,
  "nbformat_minor": 0
}