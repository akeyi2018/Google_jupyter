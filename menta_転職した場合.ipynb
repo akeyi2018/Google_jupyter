{
  "cells": [
    {
      "cell_type": "markdown",
      "metadata": {
        "id": "view-in-github",
        "colab_type": "text"
      },
      "source": [
        "<a href=\"https://colab.research.google.com/github/akeyi2018/Google_jupyter/blob/main/menta_%E8%BB%A2%E8%81%B7%E3%81%97%E3%81%9F%E5%A0%B4%E5%90%88.ipynb\" target=\"_parent\"><img src=\"https://colab.research.google.com/assets/colab-badge.svg\" alt=\"Open In Colab\"/></a>"
      ]
    },
    {
      "cell_type": "code",
      "execution_count": null,
      "metadata": {
        "id": "8dmedxTpNrEs",
        "outputId": "7818d680-6d73-448b-932a-6eb59a1a9a80"
      },
      "outputs": [
        {
          "name": "stdout",
          "output_type": "stream",
          "text": [
            "マリンがイオを唱えました。\n",
            "マリンが敵の攻撃を受け流しました。\n"
          ]
        }
      ],
      "source": [
        "class Character():\n",
        "    def __init__(self, HP, MP, name) -> None:\n",
        "        self.HP = HP\n",
        "        self.MP = MP\n",
        "        self.name = name\n",
        "\n",
        "class Wizard(Character):\n",
        "    def __init__(self, HP, MP, name, power, skill) -> None:\n",
        "        super().__init__(HP, MP, name)\n",
        "        self.power = power\n",
        "        self.skill = skill\n",
        "\n",
        "    def io_attack(self, name):\n",
        "        print(f'{name}がイオを唱えました。')\n",
        "\n",
        "class Warrior(Character):\n",
        "    def __init__(self, HP, MP, name, power, skill) -> None:\n",
        "        super().__init__(HP, MP, name)\n",
        "        self.power = power\n",
        "        self.skill = skill\n",
        "\n",
        "    def defence(self, name):\n",
        "        print(f'{name}が敵の攻撃を受け流しました。')\n",
        "\n",
        "class Player():\n",
        "    def __init__(self, name, job) -> None:\n",
        "        self.job = job # インスタンス\n",
        "        self.name = name\n",
        "\n",
        "    def show_attack_power(self):\n",
        "        print(f\"{self.name}の攻撃力は{self.character.power}\")\n",
        "\n",
        "    def show_skill(self):\n",
        "        print(f\"{self.character.name}が持っている職業スキルは{self.character.skill}\")\n",
        "\n",
        "    def io_attack(self):\n",
        "        try:\n",
        "            self.job.io_attack(self.name)\n",
        "        except:\n",
        "            print(f\"{self.name}はスキルを持っていないため、実行されませんでした。\")\n",
        "\n",
        "    def defence(self):\n",
        "        try:\n",
        "            self.job.defence(self.name)\n",
        "        except:\n",
        "            print(f\"{self.name}はスキルを持っていないため、実行されませんでした。\")\n",
        "\n",
        "# 転職\n",
        "# 転職したら、\n",
        "# 前に覚えているスキルを引継ぐ場合のクラス設計を考える\n",
        "class Tensyoku():\n",
        "    def __init__(self,name, job_list) -> None:\n",
        "        self.name = name\n",
        "        self.wizzerd, self.warrior =  job_list\n",
        "        # self.aa = job_list[0]\n",
        "\n",
        "\n",
        "# 職業クラス\n",
        "wizard = Wizard(HP=30, MP=30, power=10, name='マリン', skill=[\"メラ\",\"イオ\"])\n",
        "warrior = Warrior(HP=50, MP=0, power= 30, name= 'ツヨシ', skill=[\"受け流し\",\"ためる\"])\n",
        "\n",
        "# Playerクラス\n",
        "# marin = Player('マリン', wizard)\n",
        "# tuyoshi = Player('ツヨシ', warrior)\n",
        "\n",
        "# marin.show_attack_power()\n",
        "# marin.show_skill()\n",
        "# tuyoshi.show_attack_power()\n",
        "# tuyoshi.show_skill()\n",
        "\n",
        "# marin.io_attack()\n",
        "# tuyoshi.defence()\n",
        "# marin.defence()\n",
        "\n",
        "# tuyoshi.io_attack()\n",
        "\n",
        "t_marin = Tensyoku('マリン', job_list=[wizard, warrior])\n",
        "\n",
        "t_marin.wizzerd.io_attack(t_marin.name)\n",
        "t_marin.warrior.defence(t_marin.name)\n",
        "# t_marin.io_attack()\n",
        "\n",
        "for i,d in enumerateme()\n",
        "\n",
        "\n",
        "\n",
        "\n"
      ]
    }
  ],
  "metadata": {
    "kernelspec": {
      "display_name": "Python 3",
      "language": "python",
      "name": "python3"
    },
    "language_info": {
      "codemirror_mode": {
        "name": "ipython",
        "version": 3
      },
      "file_extension": ".py",
      "mimetype": "text/x-python",
      "name": "python",
      "nbconvert_exporter": "python",
      "pygments_lexer": "ipython3",
      "version": "3.12.2"
    },
    "colab": {
      "provenance": [],
      "include_colab_link": true
    }
  },
  "nbformat": 4,
  "nbformat_minor": 0
}