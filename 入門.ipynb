{
  "nbformat": 4,
  "nbformat_minor": 0,
  "metadata": {
    "colab": {
      "provenance": [],
      "authorship_tag": "ABX9TyODdqOCMYZHV7VDPfa6cYT6",
      "include_colab_link": true
    },
    "kernelspec": {
      "name": "python3",
      "display_name": "Python 3"
    },
    "language_info": {
      "name": "python"
    }
  },
  "cells": [
    {
      "cell_type": "markdown",
      "metadata": {
        "id": "view-in-github",
        "colab_type": "text"
      },
      "source": [
        "<a href=\"https://colab.research.google.com/github/akeyi2018/Google_jupyter/blob/main/%E5%85%A5%E9%96%80.ipynb\" target=\"_parent\"><img src=\"https://colab.research.google.com/assets/colab-badge.svg\" alt=\"Open In Colab\"/></a>"
      ]
    },
    {
      "cell_type": "code",
      "execution_count": 2,
      "metadata": {
        "id": "2B4PoOgiQeyC"
      },
      "outputs": [],
      "source": [
        "class base:\n",
        "  def __init__(self):\n",
        "    self.name = 'yamada'\n",
        "    self.age = 20\n",
        "    "
      ]
    },
    {
      "cell_type": "code",
      "source": [
        "class custom(base):\n",
        "  def __init__(self):\n",
        "    super().__init__()\n",
        "\n",
        "  def say(self):\n",
        "    print('hello, ' + self.name)  "
      ],
      "metadata": {
        "id": "9Sn-cL-UQ1Qm"
      },
      "execution_count": 3,
      "outputs": []
    },
    {
      "cell_type": "code",
      "source": [
        "instance = custom()\n",
        "instance.say()"
      ],
      "metadata": {
        "colab": {
          "base_uri": "https://localhost:8080/"
        },
        "id": "LyTcatljRfYB",
        "outputId": "26e6ce47-84dd-41b5-9698-6d5687e01e19"
      },
      "execution_count": 4,
      "outputs": [
        {
          "output_type": "stream",
          "name": "stdout",
          "text": [
            "hello, yamada\n"
          ]
        }
      ]
    }
  ]
}