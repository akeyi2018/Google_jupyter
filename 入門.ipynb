{
  "nbformat": 4,
  "nbformat_minor": 0,
  "metadata": {
    "colab": {
      "provenance": [],
      "toc_visible": true,
      "authorship_tag": "ABX9TyPhENw1ZLfvpvd+TbaojAGj"
    },
    "kernelspec": {
      "name": "python3",
      "display_name": "Python 3"
    },
    "language_info": {
      "name": "python"
    }
  },
  "cells": [
    {
      "cell_type": "code",
      "execution_count": 2,
      "metadata": {
        "id": "2B4PoOgiQeyC"
      },
      "outputs": [],
      "source": [
        "class base:\n",
        "  def __init__(self):\n",
        "    self.name = 'yamada'\n",
        "    self.age = 20\n",
        "    "
      ]
    },
    {
      "cell_type": "code",
      "source": [
        "class custom(base):\n",
        "  def __init__(self):\n",
        "    super().__init__()\n",
        "\n",
        "  def say_hello(self):\n",
        "    print('hello, ' + self.name)  "
      ],
      "metadata": {
        "id": "9Sn-cL-UQ1Qm"
      },
      "execution_count": 6,
      "outputs": []
    },
    {
      "cell_type": "code",
      "source": [
        "instance = custom()\n",
        "instance.say_hello()\n",
        "print(instance.age)\n",
        "print(instance.name)"
      ],
      "metadata": {
        "colab": {
          "base_uri": "https://localhost:8080/"
        },
        "id": "LyTcatljRfYB",
        "outputId": "201efc33-0cc7-40da-db33-9e10c39bff1d"
      },
      "execution_count": 9,
      "outputs": [
        {
          "output_type": "stream",
          "name": "stdout",
          "text": [
            "hello, yamada\n",
            "20\n",
            "yamada\n"
          ]
        }
      ]
    }
  ]
}